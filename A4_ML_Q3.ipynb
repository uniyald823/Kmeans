{
 "cells": [
  {
   "cell_type": "markdown",
   "metadata": {},
   "source": [
    "### Q3"
   ]
  },
  {
   "cell_type": "markdown",
   "metadata": {},
   "source": [
    "### extra work"
   ]
  },
  {
   "cell_type": "code",
   "execution_count": 1,
   "metadata": {},
   "outputs": [],
   "source": [
    "import pandas as pd"
   ]
  },
  {
   "cell_type": "code",
   "execution_count": 28,
   "metadata": {},
   "outputs": [],
   "source": [
    "X_train = pd.read_csv(\"D:/__MACOSX/UCI HAR Dataset/train/._X_train.txt\") "
   ]
  },
  {
   "cell_type": "code",
   "execution_count": 29,
   "metadata": {},
   "outputs": [],
   "source": [
    "body_acc_x_train = pd.read_csv('D:/UCI HAR Dataset/train/Inertial Signals/body_acc_x_train.txt', delim_whitespace=True, header=None)\n",
    "body_acc_x_train = pd.DataFrame(body_acc_x_train)"
   ]
  },
  {
   "cell_type": "code",
   "execution_count": 30,
   "metadata": {},
   "outputs": [],
   "source": [
    "body_acc_y_train = pd.read_csv('D:/UCI HAR Dataset/train/Inertial Signals/body_acc_y_train.txt', delim_whitespace=True, header=None)\n",
    "body_acc_y_train = pd.DataFrame(body_acc_y_train)"
   ]
  },
  {
   "cell_type": "code",
   "execution_count": 31,
   "metadata": {},
   "outputs": [],
   "source": [
    "body_acc_z_train = pd.read_csv('D:/UCI HAR Dataset/train/Inertial Signals/body_acc_z_train.txt', delim_whitespace=True, header=None)\n",
    "body_acc_z_train = pd.DataFrame(body_acc_z_train)"
   ]
  },
  {
   "cell_type": "code",
   "execution_count": 32,
   "metadata": {},
   "outputs": [],
   "source": [
    "body_gyro_x_train = pd.read_csv('D:/UCI HAR Dataset/train/Inertial Signals/body_gyro_x_train.txt', delim_whitespace=True, header=None)\n",
    "body_gyro_x_train = pd.DataFrame(body_gyro_x_train)"
   ]
  },
  {
   "cell_type": "code",
   "execution_count": 33,
   "metadata": {},
   "outputs": [],
   "source": [
    "body_gyro_y_train = pd.read_csv('D:/UCI HAR Dataset/train/Inertial Signals/body_gyro_y_train.txt', delim_whitespace=True, header=None)\n",
    "body_gyro_y_train = pd.DataFrame(body_gyro_y_train)"
   ]
  },
  {
   "cell_type": "code",
   "execution_count": 34,
   "metadata": {},
   "outputs": [],
   "source": [
    "\n",
    "body_gyro_z_train = pd.read_csv('D:/UCI HAR Dataset/train/Inertial Signals/body_gyro_z_train.txt', delim_whitespace=True, header=None)\n",
    "body_gyro_z_train = pd.DataFrame(body_gyro_z_train)"
   ]
  },
  {
   "cell_type": "code",
   "execution_count": 35,
   "metadata": {},
   "outputs": [],
   "source": [
    "total_acc_x_train = pd.read_csv('D:/UCI HAR Dataset/train/Inertial Signals/total_acc_x_train.txt', delim_whitespace=True, header=None)\n",
    "total_acc_x_train = pd.DataFrame(total_acc_x_train)"
   ]
  },
  {
   "cell_type": "code",
   "execution_count": 36,
   "metadata": {},
   "outputs": [],
   "source": [
    "total_acc_y_train = pd.read_csv('D:/UCI HAR Dataset/train/Inertial Signals/total_acc_y_train.txt', delim_whitespace=True, header=None)\n",
    "total_acc_y_train = pd.DataFrame(total_acc_y_train)"
   ]
  },
  {
   "cell_type": "code",
   "execution_count": 37,
   "metadata": {},
   "outputs": [],
   "source": [
    "total_acc_z_train = pd.read_csv('D:/UCI HAR Dataset/train/Inertial Signals/total_acc_z_train.txt', delim_whitespace=True, header=None)\n",
    "total_acc_z_train = pd.DataFrame(total_acc_z_train)"
   ]
  },
  {
   "cell_type": "code",
   "execution_count": 38,
   "metadata": {},
   "outputs": [],
   "source": [
    "body_acc_x_test = pd.read_csv('D:/UCI HAR Dataset/test/Inertial Signals/body_acc_x_test.txt', delim_whitespace=True, header=None)\n",
    "body_acc_x_test = pd.DataFrame(body_acc_x_test)\n",
    "body_acc_y_test = pd.read_csv('D:/UCI HAR Dataset/test/Inertial Signals/body_acc_y_test.txt', delim_whitespace=True, header=None)\n",
    "body_acc_y_test = pd.DataFrame(body_acc_y_test)\n",
    "body_acc_z_test = pd.read_csv('D:/UCI HAR Dataset/test/Inertial Signals/body_acc_z_test.txt', delim_whitespace=True, header=None)\n",
    "body_acc_z_test = pd.DataFrame(body_acc_z_test)\n",
    "body_gyro_x_test = pd.read_csv('D:/UCI HAR Dataset/test/Inertial Signals/body_gyro_x_test.txt', delim_whitespace=True, header=None)\n",
    "body_gyro_x_test = pd.DataFrame(body_gyro_x_test)\n",
    "body_gyro_y_test = pd.read_csv('D:/UCI HAR Dataset/test/Inertial Signals/body_gyro_y_test.txt', delim_whitespace=True, header=None)\n",
    "body_gyro_y_test = pd.DataFrame(body_gyro_y_test)\n",
    "body_gyro_z_test = pd.read_csv('D:/UCI HAR Dataset/test/Inertial Signals/body_gyro_z_test.txt', delim_whitespace=True, header=None)\n",
    "body_gyro_z_test = pd.DataFrame(body_gyro_z_test)\n",
    "total_acc_x_test = pd.read_csv('D:/UCI HAR Dataset/test/Inertial Signals/total_acc_x_test.txt', delim_whitespace=True, header=None)\n",
    "total_acc_x_test = pd.DataFrame(total_acc_x_test)\n",
    "total_acc_y_test = pd.read_csv('D:/UCI HAR Dataset/test/Inertial Signals/total_acc_y_test.txt', delim_whitespace=True, header=None)\n",
    "total_acc_y_test = pd.DataFrame(total_acc_y_test)\n",
    "total_acc_z_test = pd.read_csv('D:/UCI HAR Dataset/test/Inertial Signals/total_acc_z_test.txt', delim_whitespace=True, header=None)\n",
    "total_acc_z_test = pd.DataFrame(total_acc_z_test)\n"
   ]
  },
  {
   "cell_type": "code",
   "execution_count": 39,
   "metadata": {},
   "outputs": [
    {
     "data": {
      "text/html": [
       "<div>\n",
       "<style scoped>\n",
       "    .dataframe tbody tr th:only-of-type {\n",
       "        vertical-align: middle;\n",
       "    }\n",
       "\n",
       "    .dataframe tbody tr th {\n",
       "        vertical-align: top;\n",
       "    }\n",
       "\n",
       "    .dataframe thead th {\n",
       "        text-align: right;\n",
       "    }\n",
       "</style>\n",
       "<table border=\"1\" class=\"dataframe\">\n",
       "  <thead>\n",
       "    <tr style=\"text-align: right;\">\n",
       "      <th></th>\n",
       "      <th>0</th>\n",
       "      <th>1</th>\n",
       "      <th>2</th>\n",
       "      <th>3</th>\n",
       "      <th>4</th>\n",
       "      <th>5</th>\n",
       "      <th>6</th>\n",
       "      <th>7</th>\n",
       "      <th>8</th>\n",
       "      <th>9</th>\n",
       "      <th>...</th>\n",
       "      <th>118</th>\n",
       "      <th>119</th>\n",
       "      <th>120</th>\n",
       "      <th>121</th>\n",
       "      <th>122</th>\n",
       "      <th>123</th>\n",
       "      <th>124</th>\n",
       "      <th>125</th>\n",
       "      <th>126</th>\n",
       "      <th>127</th>\n",
       "    </tr>\n",
       "  </thead>\n",
       "  <tbody>\n",
       "    <tr>\n",
       "      <th>3782</th>\n",
       "      <td>-0.77344</td>\n",
       "      <td>-0.381973</td>\n",
       "      <td>0.166218</td>\n",
       "      <td>0.144825</td>\n",
       "      <td>0.240324</td>\n",
       "      <td>0.560185</td>\n",
       "      <td>0.522319</td>\n",
       "      <td>0.486424</td>\n",
       "      <td>0.152753</td>\n",
       "      <td>-0.216244</td>\n",
       "      <td>...</td>\n",
       "      <td>-3.653655</td>\n",
       "      <td>-3.012552</td>\n",
       "      <td>-2.299627</td>\n",
       "      <td>-1.853826</td>\n",
       "      <td>-2.146527</td>\n",
       "      <td>-2.500388</td>\n",
       "      <td>-2.824414</td>\n",
       "      <td>-3.374784</td>\n",
       "      <td>-3.297695</td>\n",
       "      <td>-2.921903</td>\n",
       "    </tr>\n",
       "  </tbody>\n",
       "</table>\n",
       "<p>1 rows × 128 columns</p>\n",
       "</div>"
      ],
      "text/plain": [
       "          0         1         2         3         4         5         6    \\\n",
       "3782 -0.77344 -0.381973  0.166218  0.144825  0.240324  0.560185  0.522319   \n",
       "\n",
       "           7         8         9    ...       118       119       120  \\\n",
       "3782  0.486424  0.152753 -0.216244  ... -3.653655 -3.012552 -2.299627   \n",
       "\n",
       "           121       122       123       124       125       126       127  \n",
       "3782 -1.853826 -2.146527 -2.500388 -2.824414 -3.374784 -3.297695 -2.921903  \n",
       "\n",
       "[1 rows x 128 columns]"
      ]
     },
     "execution_count": 39,
     "metadata": {},
     "output_type": "execute_result"
    }
   ],
   "source": [
    "body_gyro_x_train.sample() "
   ]
  },
  {
   "cell_type": "code",
   "execution_count": 40,
   "metadata": {},
   "outputs": [
    {
     "data": {
      "text/html": [
       "<div>\n",
       "<style scoped>\n",
       "    .dataframe tbody tr th:only-of-type {\n",
       "        vertical-align: middle;\n",
       "    }\n",
       "\n",
       "    .dataframe tbody tr th {\n",
       "        vertical-align: top;\n",
       "    }\n",
       "\n",
       "    .dataframe thead th {\n",
       "        text-align: right;\n",
       "    }\n",
       "</style>\n",
       "<table border=\"1\" class=\"dataframe\">\n",
       "  <thead>\n",
       "    <tr style=\"text-align: right;\">\n",
       "      <th></th>\n",
       "      <th>0</th>\n",
       "      <th>1</th>\n",
       "      <th>2</th>\n",
       "      <th>3</th>\n",
       "      <th>4</th>\n",
       "      <th>5</th>\n",
       "      <th>6</th>\n",
       "      <th>7</th>\n",
       "      <th>8</th>\n",
       "      <th>9</th>\n",
       "      <th>...</th>\n",
       "      <th>118</th>\n",
       "      <th>119</th>\n",
       "      <th>120</th>\n",
       "      <th>121</th>\n",
       "      <th>122</th>\n",
       "      <th>123</th>\n",
       "      <th>124</th>\n",
       "      <th>125</th>\n",
       "      <th>126</th>\n",
       "      <th>127</th>\n",
       "    </tr>\n",
       "  </thead>\n",
       "  <tbody>\n",
       "    <tr>\n",
       "      <th>1484</th>\n",
       "      <td>-0.034079</td>\n",
       "      <td>-0.070284</td>\n",
       "      <td>-0.065959</td>\n",
       "      <td>-0.054538</td>\n",
       "      <td>-0.067335</td>\n",
       "      <td>-0.078481</td>\n",
       "      <td>-0.110685</td>\n",
       "      <td>-0.156447</td>\n",
       "      <td>-0.150023</td>\n",
       "      <td>-0.145378</td>\n",
       "      <td>...</td>\n",
       "      <td>-0.016256</td>\n",
       "      <td>-0.018723</td>\n",
       "      <td>-0.010585</td>\n",
       "      <td>-0.04502</td>\n",
       "      <td>-0.032208</td>\n",
       "      <td>-0.05134</td>\n",
       "      <td>-0.069612</td>\n",
       "      <td>-0.066695</td>\n",
       "      <td>-0.065107</td>\n",
       "      <td>-0.029906</td>\n",
       "    </tr>\n",
       "  </tbody>\n",
       "</table>\n",
       "<p>1 rows × 128 columns</p>\n",
       "</div>"
      ],
      "text/plain": [
       "           0         1         2         3         4         5         6    \\\n",
       "1484 -0.034079 -0.070284 -0.065959 -0.054538 -0.067335 -0.078481 -0.110685   \n",
       "\n",
       "           7         8         9    ...       118       119       120  \\\n",
       "1484 -0.156447 -0.150023 -0.145378  ... -0.016256 -0.018723 -0.010585   \n",
       "\n",
       "          121       122      123       124       125       126       127  \n",
       "1484 -0.04502 -0.032208 -0.05134 -0.069612 -0.066695 -0.065107 -0.029906  \n",
       "\n",
       "[1 rows x 128 columns]"
      ]
     },
     "execution_count": 40,
     "metadata": {},
     "output_type": "execute_result"
    }
   ],
   "source": [
    "total_acc_z_test.sample()"
   ]
  },
  {
   "cell_type": "code",
   "execution_count": 41,
   "metadata": {},
   "outputs": [
    {
     "data": {
      "text/plain": [
       "(7352, 27)"
      ]
     },
     "execution_count": 41,
     "metadata": {},
     "output_type": "execute_result"
    }
   ],
   "source": [
    "from sklearn.decomposition import PCA #PCA 적용\n",
    "\n",
    "pca = PCA(n_components=0.9)\n",
    "body_acc_x_train_reduce = pd.DataFrame(pca.fit_transform(body_acc_x_train))\n",
    "body_acc_x_test_reduce = pd.DataFrame(pca.transform(body_acc_x_test))\n",
    "\n",
    "body_acc_y_train_reduce = pd.DataFrame(pca.fit_transform(body_acc_y_train))\n",
    "body_acc_y_test_reduce = pd.DataFrame(pca.transform(body_acc_y_test))\n",
    "\n",
    "body_acc_z_train_reduce = pd.DataFrame(pca.fit_transform(body_acc_z_train))\n",
    "body_acc_z_test_reduce = pd.DataFrame(pca.transform(body_acc_z_test))\n",
    "\n",
    "body_gyro_x_train_reduce = pd.DataFrame(pca.fit_transform(body_gyro_x_train))\n",
    "body_gyro_x_test_reduce = pd.DataFrame(pca.transform(body_gyro_x_test))\n",
    "\n",
    "body_gyro_y_train_reduce = pd.DataFrame(pca.fit_transform(body_gyro_y_train))\n",
    "body_gyro_y_test_reduce = pd.DataFrame(pca.transform(body_gyro_y_test))\n",
    "\n",
    "body_gyro_z_train_reduce = pd.DataFrame(pca.fit_transform(body_gyro_z_train))\n",
    "body_gyro_z_test_reduce = pd.DataFrame(pca.transform(body_gyro_z_test))\n",
    "\n",
    "total_acc_x_train_reduce = pd.DataFrame(pca.fit_transform(total_acc_x_train))\n",
    "total_acc_x_test_reduce = pd.DataFrame(pca.transform(total_acc_x_test))\n",
    "\n",
    "total_acc_y_train_reduce = pd.DataFrame(pca.fit_transform(total_acc_y_train))\n",
    "total_acc_y_test_reduce = pd.DataFrame(pca.transform(total_acc_y_test))\n",
    "\n",
    "total_acc_z_train_reduce = pd.DataFrame(pca.fit_transform(total_acc_z_train))\n",
    "total_acc_z_test_reduce = pd.DataFrame(pca.transform(total_acc_z_test))\n",
    "\n",
    "body_acc_x_train_reduce.shape"
   ]
  },
  {
   "cell_type": "code",
   "execution_count": 42,
   "metadata": {},
   "outputs": [],
   "source": [
    "pca_new = pd.DataFrame(body_acc_x_train_reduce.mean(axis=1))\n",
    "pca_new.columns = ['tBodyAcc-mean()-x']\n",
    "pca_new['tBodyAcc-mean()-y'] = body_acc_y_train_reduce.mean(axis=1)\n",
    "pca_new['tBodyAcc-mean()-z'] = body_acc_z_train_reduce.mean(axis=1)\n",
    "pca_new['tBodyGyro-mean()-x'] = body_gyro_x_train_reduce.mean(axis=1)\n",
    "pca_new['tBodyGyro-mean()-y'] = body_gyro_y_train_reduce.mean(axis=1)\n",
    "pca_new['tBodyGyro-mean()-z'] = body_gyro_z_train_reduce.mean(axis=1)\n",
    "pca_new['tTotalAcc-mean()-x'] = total_acc_x_train_reduce.mean(axis=1)\n",
    "pca_new['tTotalAcc-mean()-y'] = total_acc_y_train_reduce.mean(axis=1)\n",
    "pca_new['tTotalAcc-mean()-z'] = total_acc_z_train_reduce.mean(axis=1)\n",
    "\n",
    "pca_new['tBodyAcc-std()-x'] = body_acc_x_train_reduce.std(axis=1)\n",
    "pca_new['tBodyAcc-std()-y'] = body_acc_y_train_reduce.std(axis=1)\n",
    "pca_new['tBodyAcc-std()-z'] = body_acc_z_train_reduce.std(axis=1)\n",
    "pca_new['tBodyGyro-std()-x'] = body_gyro_x_train_reduce.std(axis=1)\n",
    "pca_new['tBodyGyro-std()-y'] = body_gyro_y_train_reduce.std(axis=1)\n",
    "pca_new['tBodyGyro-std()-z'] = body_gyro_z_train_reduce.std(axis=1)\n",
    "pca_new['tTotalAcc-std()-x'] = total_acc_x_train_reduce.std(axis=1)\n",
    "#pca_new['tTotalAcc-std()-y'] = total_acc_y_train_reduce.std(axis=1) -> NaN으로 나와서 LSTM이 돌아가지 않기에 생략\n",
    "#pca_new['tTotalAcc-std()-z'] = total_acc_z_train_reduce.std(axis=1) -> 위와 동일\n",
    "\n",
    "pca_new['tBodyAcc-mad()-x'] = body_acc_x_train_reduce.mad(axis=1)\n",
    "pca_new['tBodyAcc-mad()-y'] = body_acc_y_train_reduce.mad(axis=1)\n",
    "pca_new['tBodyAcc-mad()-z'] = body_acc_z_train_reduce.mad(axis=1)\n",
    "pca_new['tBodyGyro-mad()-x'] = body_gyro_x_train_reduce.mad(axis=1)\n",
    "pca_new['tBodyGyro-mad()-y'] = body_gyro_y_train_reduce.mad(axis=1)\n",
    "pca_new['tBodyGyro-mad()-z'] = body_gyro_z_train_reduce.mad(axis=1)\n",
    "pca_new['tTotalAcc-mad()-x'] = total_acc_x_train_reduce.mad(axis=1)\n",
    "#pca_new['tTotalAcc-mad()-y'] = total_acc_y_train_reduce.mad(axis=1) -> 모두 0으로 나와서 의미가 없기에 생략\n",
    "#pca_new['tTotalAcc-mad()-z'] = total_acc_z_train_reduce.mad(axis=1) -> 위와 동일\n",
    "\n",
    "pca_new['tBodyAcc-max()-x'] = body_acc_x_train_reduce.max(axis=1)\n",
    "pca_new['tBodyAcc-max()-y'] = body_acc_y_train_reduce.max(axis=1)\n",
    "pca_new['tBodyAcc-max()-z'] = body_acc_z_train_reduce.max(axis=1)\n",
    "pca_new['tBodyGyro-max()-x'] = body_gyro_x_train_reduce.max(axis=1)\n",
    "pca_new['tBodyGyro-max()-y'] = body_gyro_y_train_reduce.max(axis=1)\n",
    "pca_new['tBodyGyro-max()-z'] = body_gyro_z_train_reduce.max(axis=1)\n",
    "pca_new['tTotalAcc-max()-x'] = total_acc_x_train_reduce.max(axis=1)\n",
    "pca_new['tTotalAcc-max()-y'] = total_acc_y_train_reduce.max(axis=1)\n",
    "pca_new['tTotalAcc-max()-z'] = total_acc_z_train_reduce.max(axis=1)\n",
    "\n",
    "pca_new['tBodyAcc-min()-x'] = body_acc_x_train_reduce.min(axis=1)\n",
    "pca_new['tBodyAcc-min()-y'] = body_acc_y_train_reduce.min(axis=1)\n",
    "pca_new['tBodyAcc-min()-z'] = body_acc_z_train_reduce.min(axis=1)\n",
    "pca_new['tBodyGyro-min()-x'] = body_gyro_x_train_reduce.min(axis=1)\n",
    "pca_new['tBodyGyro-min()-y'] = body_gyro_y_train_reduce.min(axis=1)\n",
    "pca_new['tBodyGyro-min()-z'] = body_gyro_z_train_reduce.min(axis=1)\n",
    "pca_new['tTotalAcc-min()-x'] = total_acc_x_train_reduce.min(axis=1)\n",
    "pca_new['tTotalAcc-min()-y'] = total_acc_y_train_reduce.min(axis=1)\n",
    "pca_new['tTotalAcc-min()-z'] = total_acc_z_train_reduce.min(axis=1)\n",
    "\n",
    "pca_new['tBodyAcc-median()-x'] = body_acc_x_train_reduce.median(axis=1)\n",
    "pca_new['tBodyAcc-median()-y'] = body_acc_y_train_reduce.median(axis=1)\n",
    "pca_new['tBodyAcc-median()-z'] = body_acc_z_train_reduce.median(axis=1)\n",
    "pca_new['tBodyGyro-median()-x'] = body_gyro_x_train_reduce.median(axis=1)\n",
    "pca_new['tBodyGyro-median()-y'] = body_gyro_y_train_reduce.median(axis=1)\n",
    "pca_new['tBodyGyro-median()-z'] = body_gyro_z_train_reduce.median(axis=1)\n",
    "pca_new['tTotalAcc-median()-x'] = total_acc_x_train_reduce.median(axis=1)\n",
    "pca_new['tTotalAcc-median()-y'] = total_acc_y_train_reduce.median(axis=1)\n",
    "pca_new['tTotalAcc-median()-z'] = total_acc_z_train_reduce.median(axis=1)"
   ]
  },
  {
   "cell_type": "code",
   "execution_count": 43,
   "metadata": {},
   "outputs": [],
   "source": [
    "test_pca_new = pd.DataFrame(body_acc_x_test_reduce.mean(axis=1))\n",
    "test_pca_new.columns = ['tBodyAcc-mean()-x']\n",
    "test_pca_new['tBodyAcc-mean()-y'] = body_acc_y_test_reduce.mean(axis=1)\n",
    "test_pca_new['tBodyAcc-mean()-z'] = body_acc_z_test_reduce.mean(axis=1)\n",
    "test_pca_new['tBodyGyro-mean()-x'] = body_gyro_x_test_reduce.mean(axis=1)\n",
    "test_pca_new['tBodyGyro-mean()-y'] = body_gyro_y_test_reduce.mean(axis=1)\n",
    "test_pca_new['tBodyGyro-mean()-z'] = body_gyro_z_test_reduce.mean(axis=1)\n",
    "test_pca_new['tTotalAcc-mean()-x'] = total_acc_x_test_reduce.mean(axis=1)\n",
    "test_pca_new['tTotalAcc-mean()-y'] = total_acc_y_test_reduce.mean(axis=1)\n",
    "test_pca_new['tTotalAcc-mean()-z'] = total_acc_z_test_reduce.mean(axis=1)\n",
    "\n",
    "test_pca_new['tBodyAcc-std()-x'] = body_acc_x_test_reduce.std(axis=1)\n",
    "test_pca_new['tBodyAcc-std()-y'] = body_acc_y_test_reduce.std(axis=1)\n",
    "test_pca_new['tBodyAcc-std()-z'] = body_acc_z_test_reduce.std(axis=1)\n",
    "test_pca_new['tBodyGyro-std()-x'] = body_gyro_x_test_reduce.std(axis=1)\n",
    "test_pca_new['tBodyGyro-std()-y'] = body_gyro_y_test_reduce.std(axis=1)\n",
    "test_pca_new['tBodyGyro-std()-z'] = body_gyro_z_test_reduce.std(axis=1)\n",
    "test_pca_new['tTotalAcc-std()-x'] = total_acc_x_test_reduce.std(axis=1)\n",
    "#test_pca_new['tTotalAcc-std()-y'] = total_acc_y_test_reduce.std(axis=1) -> NaN으로 나와서 LSTM이 돌아가지 않기에 생략\n",
    "#test_pca_new['tTotalAcc-std()-z'] = total_acc_z_test_reduce.std(axis=1) -> 위와 동일\n",
    "\n",
    "test_pca_new['tBodyAcc-mad()-x'] = body_acc_x_test_reduce.mad(axis=1)\n",
    "test_pca_new['tBodyAcc-mad()-y'] = body_acc_y_test_reduce.mad(axis=1)\n",
    "test_pca_new['tBodyAcc-mad()-z'] = body_acc_z_test_reduce.mad(axis=1)\n",
    "test_pca_new['tBodyGyro-mad()-x'] = body_gyro_x_test_reduce.mad(axis=1)\n",
    "test_pca_new['tBodyGyro-mad()-y'] = body_gyro_y_test_reduce.mad(axis=1)\n",
    "test_pca_new['tBodyGyro-mad()-z'] = body_gyro_z_test_reduce.mad(axis=1)\n",
    "test_pca_new['tTotalAcc-mad()-x'] = total_acc_x_test_reduce.mad(axis=1)\n",
    "#test_pca_new['tTotalAcc-mad()-y'] = total_acc_y_test_reduce.mad(axis=1) -> 모두 0으로 나와서 의미가 없기에 생략\n",
    "#test_pca_new['tTotalAcc-mad()-z'] = total_acc_z_test_reduce.mad(axis=1) -> 위와 동일\n",
    "\n",
    "test_pca_new['tBodyAcc-max()-x'] = body_acc_x_test_reduce.max(axis=1)\n",
    "test_pca_new['tBodyAcc-max()-y'] = body_acc_y_test_reduce.max(axis=1)\n",
    "test_pca_new['tBodyAcc-max()-z'] = body_acc_z_test_reduce.max(axis=1)\n",
    "test_pca_new['tBodyGyro-max()-x'] = body_gyro_x_test_reduce.max(axis=1)\n",
    "test_pca_new['tBodyGyro-max()-y'] = body_gyro_y_test_reduce.max(axis=1)\n",
    "test_pca_new['tBodyGyro-max()-z'] = body_gyro_z_test_reduce.max(axis=1)\n",
    "test_pca_new['tTotalAcc-max()-x'] = total_acc_x_test_reduce.max(axis=1)\n",
    "test_pca_new['tTotalAcc-max()-y'] = total_acc_y_test_reduce.max(axis=1)\n",
    "test_pca_new['tTotalAcc-max()-z'] = total_acc_z_test_reduce.max(axis=1)\n",
    "\n",
    "test_pca_new['tBodyAcc-min()-x'] = body_acc_x_test_reduce.min(axis=1)\n",
    "test_pca_new['tBodyAcc-min()-y'] = body_acc_y_test_reduce.min(axis=1)\n",
    "test_pca_new['tBodyAcc-min()-z'] = body_acc_z_test_reduce.min(axis=1)\n",
    "test_pca_new['tBodyGyro-min()-x'] = body_gyro_x_test_reduce.min(axis=1)\n",
    "test_pca_new['tBodyGyro-min()-y'] = body_gyro_y_test_reduce.min(axis=1)\n",
    "test_pca_new['tBodyGyro-min()-z'] = body_gyro_z_test_reduce.min(axis=1)\n",
    "test_pca_new['tTotalAcc-min()-x'] = total_acc_x_test_reduce.min(axis=1)\n",
    "test_pca_new['tTotalAcc-min()-y'] = total_acc_y_test_reduce.min(axis=1)\n",
    "test_pca_new['tTotalAcc-min()-z'] = total_acc_z_test_reduce.min(axis=1)\n",
    "\n",
    "test_pca_new['tBodyAcc-median()-x'] = body_acc_x_test_reduce.median(axis=1)\n",
    "test_pca_new['tBodyAcc-median()-y'] = body_acc_y_test_reduce.median(axis=1)\n",
    "test_pca_new['tBodyAcc-median()-z'] = body_acc_z_test_reduce.median(axis=1)\n",
    "test_pca_new['tBodyGyro-median()-x'] = body_gyro_x_test_reduce.median(axis=1)\n",
    "test_pca_new['tBodyGyro-median()-y'] = body_gyro_y_test_reduce.median(axis=1)\n",
    "test_pca_new['tBodyGyro-median()-z'] = body_gyro_z_test_reduce.median(axis=1)\n",
    "test_pca_new['tTotalAcc-median()-x'] = total_acc_x_test_reduce.median(axis=1)\n",
    "test_pca_new['tTotalAcc-median()-y'] = total_acc_y_test_reduce.median(axis=1)\n",
    "test_pca_new['tTotalAcc-median()-z'] = total_acc_z_test_reduce.median(axis=1)"
   ]
  },
  {
   "cell_type": "code",
   "execution_count": 44,
   "metadata": {},
   "outputs": [
    {
     "name": "stdout",
     "output_type": "stream",
     "text": [
      "(7352, 50)\n",
      "(2947, 50)\n"
     ]
    }
   ],
   "source": [
    "print(pca_new.shape)\n",
    "print(test_pca_new.shape)"
   ]
  },
  {
   "cell_type": "code",
   "execution_count": 45,
   "metadata": {},
   "outputs": [
    {
     "data": {
      "text/plain": [
       "tBodyAcc-mean()-x       0\n",
       "tBodyAcc-mean()-y       0\n",
       "tBodyAcc-mean()-z       0\n",
       "tBodyGyro-mean()-x      0\n",
       "tBodyGyro-mean()-y      0\n",
       "tBodyGyro-mean()-z      0\n",
       "tTotalAcc-mean()-x      0\n",
       "tTotalAcc-mean()-y      0\n",
       "tTotalAcc-mean()-z      0\n",
       "tBodyAcc-std()-x        0\n",
       "tBodyAcc-std()-y        0\n",
       "tBodyAcc-std()-z        0\n",
       "tBodyGyro-std()-x       0\n",
       "tBodyGyro-std()-y       0\n",
       "tBodyGyro-std()-z       0\n",
       "tTotalAcc-std()-x       0\n",
       "tBodyAcc-mad()-x        0\n",
       "tBodyAcc-mad()-y        0\n",
       "tBodyAcc-mad()-z        0\n",
       "tBodyGyro-mad()-x       0\n",
       "tBodyGyro-mad()-y       0\n",
       "tBodyGyro-mad()-z       0\n",
       "tTotalAcc-mad()-x       0\n",
       "tBodyAcc-max()-x        0\n",
       "tBodyAcc-max()-y        0\n",
       "tBodyAcc-max()-z        0\n",
       "tBodyGyro-max()-x       0\n",
       "tBodyGyro-max()-y       0\n",
       "tBodyGyro-max()-z       0\n",
       "tTotalAcc-max()-x       0\n",
       "tTotalAcc-max()-y       0\n",
       "tTotalAcc-max()-z       0\n",
       "tBodyAcc-min()-x        0\n",
       "tBodyAcc-min()-y        0\n",
       "tBodyAcc-min()-z        0\n",
       "tBodyGyro-min()-x       0\n",
       "tBodyGyro-min()-y       0\n",
       "tBodyGyro-min()-z       0\n",
       "tTotalAcc-min()-x       0\n",
       "tTotalAcc-min()-y       0\n",
       "tTotalAcc-min()-z       0\n",
       "tBodyAcc-median()-x     0\n",
       "tBodyAcc-median()-y     0\n",
       "tBodyAcc-median()-z     0\n",
       "tBodyGyro-median()-x    0\n",
       "tBodyGyro-median()-y    0\n",
       "tBodyGyro-median()-z    0\n",
       "tTotalAcc-median()-x    0\n",
       "tTotalAcc-median()-y    0\n",
       "tTotalAcc-median()-z    0\n",
       "dtype: int64"
      ]
     },
     "execution_count": 45,
     "metadata": {},
     "output_type": "execute_result"
    }
   ],
   "source": [
    "pd.isna(pca_new).sum()"
   ]
  },
  {
   "cell_type": "code",
   "execution_count": 46,
   "metadata": {},
   "outputs": [
    {
     "data": {
      "text/plain": [
       "6    1407\n",
       "5    1374\n",
       "4    1286\n",
       "1    1226\n",
       "2    1073\n",
       "3     986\n",
       "dtype: int64"
      ]
     },
     "execution_count": 46,
     "metadata": {},
     "output_type": "execute_result"
    }
   ],
   "source": [
    "y_train = pd.read_csv('D:/UCI HAR Dataset/train/y_train.txt', header=None)\n",
    "y_train = pd.DataFrame(y_train)\n",
    "y_train.value_counts()"
   ]
  },
  {
   "cell_type": "code",
   "execution_count": 47,
   "metadata": {},
   "outputs": [
    {
     "data": {
      "text/html": [
       "<div>\n",
       "<style scoped>\n",
       "    .dataframe tbody tr th:only-of-type {\n",
       "        vertical-align: middle;\n",
       "    }\n",
       "\n",
       "    .dataframe tbody tr th {\n",
       "        vertical-align: top;\n",
       "    }\n",
       "\n",
       "    .dataframe thead th {\n",
       "        text-align: right;\n",
       "    }\n",
       "</style>\n",
       "<table border=\"1\" class=\"dataframe\">\n",
       "  <thead>\n",
       "    <tr style=\"text-align: right;\">\n",
       "      <th></th>\n",
       "      <th>1</th>\n",
       "      <th>2</th>\n",
       "      <th>3</th>\n",
       "      <th>4</th>\n",
       "      <th>5</th>\n",
       "      <th>6</th>\n",
       "    </tr>\n",
       "  </thead>\n",
       "  <tbody>\n",
       "    <tr>\n",
       "      <th>0</th>\n",
       "      <td>0</td>\n",
       "      <td>0</td>\n",
       "      <td>0</td>\n",
       "      <td>0</td>\n",
       "      <td>1</td>\n",
       "      <td>0</td>\n",
       "    </tr>\n",
       "    <tr>\n",
       "      <th>1</th>\n",
       "      <td>0</td>\n",
       "      <td>0</td>\n",
       "      <td>0</td>\n",
       "      <td>0</td>\n",
       "      <td>1</td>\n",
       "      <td>0</td>\n",
       "    </tr>\n",
       "    <tr>\n",
       "      <th>2</th>\n",
       "      <td>0</td>\n",
       "      <td>0</td>\n",
       "      <td>0</td>\n",
       "      <td>0</td>\n",
       "      <td>1</td>\n",
       "      <td>0</td>\n",
       "    </tr>\n",
       "    <tr>\n",
       "      <th>3</th>\n",
       "      <td>0</td>\n",
       "      <td>0</td>\n",
       "      <td>0</td>\n",
       "      <td>0</td>\n",
       "      <td>1</td>\n",
       "      <td>0</td>\n",
       "    </tr>\n",
       "    <tr>\n",
       "      <th>4</th>\n",
       "      <td>0</td>\n",
       "      <td>0</td>\n",
       "      <td>0</td>\n",
       "      <td>0</td>\n",
       "      <td>1</td>\n",
       "      <td>0</td>\n",
       "    </tr>\n",
       "  </tbody>\n",
       "</table>\n",
       "</div>"
      ],
      "text/plain": [
       "   1  2  3  4  5  6\n",
       "0  0  0  0  0  1  0\n",
       "1  0  0  0  0  1  0\n",
       "2  0  0  0  0  1  0\n",
       "3  0  0  0  0  1  0\n",
       "4  0  0  0  0  1  0"
      ]
     },
     "execution_count": 47,
     "metadata": {},
     "output_type": "execute_result"
    }
   ],
   "source": [
    "y_train.columns = ['label']\n",
    "y_train = pd.get_dummies(y_train['label']) #LSTM 결과값을 위해 라벨들을 one-hot encoding 적용하기.\n",
    "y_train.head()"
   ]
  },
  {
   "cell_type": "code",
   "execution_count": 48,
   "metadata": {},
   "outputs": [],
   "source": [
    "from sklearn.model_selection import train_test_split\n",
    "X_train,X_valid,y_train,y_valid=train_test_split(pca_new,y_train,test_size=0.3,random_state=42)"
   ]
  },
  {
   "cell_type": "code",
   "execution_count": 49,
   "metadata": {},
   "outputs": [
    {
     "name": "stdout",
     "output_type": "stream",
     "text": [
      "(5146, 50)\n",
      "(5146, 6)\n",
      "(2206, 50)\n",
      "(2206, 6)\n"
     ]
    }
   ],
   "source": [
    "print(X_train.shape)\n",
    "print(y_train.shape)\n",
    "print(X_valid.shape)\n",
    "print(y_valid.shape)"
   ]
  },
  {
   "cell_type": "code",
   "execution_count": 50,
   "metadata": {},
   "outputs": [
    {
     "name": "stdout",
     "output_type": "stream",
     "text": [
      "(5146, 50, 1)\n",
      "(5146, 6)\n"
     ]
    }
   ],
   "source": [
    "#LSTM은 3차원 Input이 필요해서 reshape\n",
    "X_train = X_train.values.reshape(5146, 50, 1)\n",
    "X_valid = X_valid.values.reshape(2206, 50, 1)\n",
    "test_pca_new = test_pca_new.values.reshape(2947, 50, 1)\n",
    "print(X_train.shape)\n",
    "print(y_train.shape)"
   ]
  },
  {
   "cell_type": "markdown",
   "metadata": {},
   "source": [
    "### Part1"
   ]
  },
  {
   "cell_type": "code",
   "execution_count": 215,
   "metadata": {},
   "outputs": [],
   "source": [
    "from sklearn.manifold import TSNE"
   ]
  },
  {
   "cell_type": "code",
   "execution_count": 216,
   "metadata": {},
   "outputs": [],
   "source": [
    "X_train = pd.read_csv('D:/UCI HAR Dataset/train/X_train.txt',delim_whitespace=True,header=None).to_numpy()\n",
    "y_train = pd.read_csv('D:/UCI HAR Dataset/train/y_train.txt',delim_whitespace=True,header=None).to_numpy().reshape(-1)\n",
    "X_test = pd.read_csv('D:/UCI HAR Dataset/test/X_test.txt',delim_whitespace=True,header=None).to_numpy()\n",
    "y_test = pd.read_csv('D:/UCI HAR Dataset/test/y_test.txt',delim_whitespace=True,header=None).to_numpy().reshape(-1)"
   ]
  },
  {
   "cell_type": "code",
   "execution_count": 219,
   "metadata": {},
   "outputs": [
    {
     "name": "stdout",
     "output_type": "stream",
     "text": [
      "[[ 0.20064157 -0.0636826  -0.41962845 ... -0.68721921  0.40794614\n",
      "  -0.00756789]\n",
      " [ 0.05594788  0.03148567 -0.25390836 ... -0.694138    0.40911698\n",
      "   0.00787517]\n",
      " [ 0.07351535 -0.04341648 -0.07629468 ... -0.702239    0.4102883\n",
      "   0.02650234]\n",
      " ...\n",
      " [-0.01566765  0.0167814   1.13222107 ... -0.56584847  0.64059683\n",
      "   0.34870928]\n",
      " [ 0.21586648 -0.02812252 -0.86770988 ... -0.57766781  0.63147758\n",
      "   0.29327564]\n",
      " [ 1.09620157  0.12919873 -1.67268082 ... -0.57392691  0.63274259\n",
      "   0.33396081]]\n"
     ]
    }
   ],
   "source": [
    "# example of a standardization\n",
    "from numpy import asarray\n",
    "from sklearn.preprocessing import StandardScaler\n",
    "scaler = StandardScaler()\n",
    "# transform data\n",
    "X_train = scaler.fit_transform(X_train)\n",
    "print(X_train)"
   ]
  },
  {
   "cell_type": "code",
   "execution_count": 220,
   "metadata": {},
   "outputs": [
    {
     "name": "stdout",
     "output_type": "stream",
     "text": [
      "(7352, 561)\n",
      "(7352,)\n",
      "(2947, 561)\n",
      "(2947,)\n"
     ]
    }
   ],
   "source": [
    "print(X_train.shape)\n",
    "print(y_train.shape)\n",
    "print(X_test.shape)\n",
    "print(y_test.shape)"
   ]
  },
  {
   "cell_type": "code",
   "execution_count": 221,
   "metadata": {},
   "outputs": [],
   "source": [
    "y_train = y_train.reshape(-1)"
   ]
  },
  {
   "cell_type": "code",
   "execution_count": 222,
   "metadata": {},
   "outputs": [
    {
     "name": "stdout",
     "output_type": "stream",
     "text": [
      "t-SNE done! Time elapsed: 50.00964593887329 seconds\n"
     ]
    }
   ],
   "source": [
    "from sklearn.manifold import TSNE\n",
    "import time\n",
    "time_start = time.time()\n",
    "fashion_tsne = TSNE().fit_transform(X_train)\n",
    "\n",
    "print('t-SNE done! Time elapsed: {} seconds'.format(time.time()-time_start))"
   ]
  },
  {
   "cell_type": "code",
   "execution_count": 223,
   "metadata": {},
   "outputs": [],
   "source": [
    "from bioinfokit.visuz import cluster\n",
    "cluster.tsneplot(score=fashion_tsne)"
   ]
  },
  {
   "cell_type": "code",
   "execution_count": 224,
   "metadata": {},
   "outputs": [
    {
     "name": "stderr",
     "output_type": "stream",
     "text": [
      "D:\\Anaconda3\\lib\\site-packages\\seaborn\\_decorators.py:36: FutureWarning: Pass the following variables as keyword args: x, y. From version 0.12, the only valid positional argument will be `data`, and passing other arguments without an explicit keyword will result in an error or misinterpretation.\n",
      "  warnings.warn(\n"
     ]
    },
    {
     "data": {
      "text/plain": [
       "<AxesSubplot:>"
      ]
     },
     "execution_count": 224,
     "metadata": {},
     "output_type": "execute_result"
    },
    {
     "data": {
      "image/png": "[encoded data removed]",
      "text/plain": [
       "<Figure size 432x288 with 1 Axes>"
      ]
     },
     "metadata": {
      "needs_background": "light"
     },
     "output_type": "display_data"
    }
   ],
   "source": [
    "sns.scatterplot(X_train[:,0],X_train[:,1],hue = y_train)"
   ]
  },
  {
   "cell_type": "markdown",
   "metadata": {},
   "source": [
    "### Part 3"
   ]
  },
  {
   "cell_type": "code",
   "execution_count": 141,
   "metadata": {},
   "outputs": [],
   "source": [
    "import matplotlib.pyplot as plt\n",
    "P = kmeans.fit(X_train,y_train)\n",
    "Q = kmeans.predict(X_test)"
   ]
  },
  {
   "cell_type": "code",
   "execution_count": 142,
   "metadata": {},
   "outputs": [
    {
     "data": {
      "text/plain": [
       "array([0, 0, 0, ..., 2, 2, 2])"
      ]
     },
     "execution_count": 142,
     "metadata": {},
     "output_type": "execute_result"
    }
   ],
   "source": [
    "Q"
   ]
  },
  {
   "cell_type": "code",
   "execution_count": 134,
   "metadata": {},
   "outputs": [
    {
     "data": {
      "image/png": "[encoded data removed]",
      "text/plain": [
       "<Figure size 432x288 with 1 Axes>"
      ]
     },
     "metadata": {
      "needs_background": "light"
     },
     "output_type": "display_data"
    }
   ],
   "source": [
    "import matplotlib.pyplot as plt\n",
    "P = kmeans.fit(X_train)\n",
    "plt.scatter(X_train[:, 0], X_train[:, 1], s=100);"
   ]
  },
  {
   "cell_type": "code",
   "execution_count": 138,
   "metadata": {},
   "outputs": [
    {
     "data": {
      "image/png": "[encoded data removed]",
      "text/plain": [
       "<Figure size 432x288 with 1 Axes>"
      ]
     },
     "metadata": {
      "needs_background": "light"
     },
     "output_type": "display_data"
    }
   ],
   "source": [
    "import matplotlib.pyplot as plt\n",
    "P = kmeans.fit(X_test)\n",
    "plt.scatter(X_test[:, 0], X_test[:, 1], s=100);"
   ]
  },
  {
   "cell_type": "code",
   "execution_count": 139,
   "metadata": {},
   "outputs": [
    {
     "data": {
      "image/png": "[encoded data removed]",
      "text/plain": [
       "<Figure size 432x288 with 1 Axes>"
      ]
     },
     "metadata": {
      "needs_background": "light"
     },
     "output_type": "display_data"
    }
   ],
   "source": [
    "#Plotting the results\n",
    "plt.scatter(X_train[:, 0], X_train[:, 1] , s=100,color = 'red')\n",
    "plt.scatter(X_test[:, 0], X_test[:, 1], s=100, color = 'black')\n",
    "plt.show()"
   ]
  },
  {
   "cell_type": "code",
   "execution_count": 212,
   "metadata": {},
   "outputs": [
    {
     "name": "stdout",
     "output_type": "stream",
     "text": [
      "[[ 0.20064157 -0.0636826  -0.41962845 ... -0.68721921  0.40794614\n",
      "  -0.00756789]\n",
      " [ 0.05594788  0.03148567 -0.25390836 ... -0.694138    0.40911698\n",
      "   0.00787517]\n",
      " [ 0.07351535 -0.04341648 -0.07629468 ... -0.702239    0.4102883\n",
      "   0.02650234]\n",
      " ...\n",
      " [-0.01566765  0.0167814   1.13222107 ... -0.56584847  0.64059683\n",
      "   0.34870928]\n",
      " [ 0.21586648 -0.02812252 -0.86770988 ... -0.57766781  0.63147758\n",
      "   0.29327564]\n",
      " [ 1.09620157  0.12919873 -1.67268082 ... -0.57392691  0.63274259\n",
      "   0.33396081]]\n"
     ]
    }
   ],
   "source": [
    "# example of a standardization\n",
    "from numpy import asarray\n",
    "from sklearn.preprocessing import StandardScaler\n",
    "scaler = StandardScaler()\n",
    "# transform data\n",
    "scaled = scaler.fit_transform(X_train)\n",
    "print(scaled)"
   ]
  },
  {
   "cell_type": "code",
   "execution_count": 213,
   "metadata": {},
   "outputs": [
    {
     "data": {
      "text/plain": [
       "array([0, 0, 0, ..., 2, 2, 2])"
      ]
     },
     "execution_count": 213,
     "metadata": {},
     "output_type": "execute_result"
    }
   ],
   "source": [
    "import matplotlib.pyplot as plt\n",
    "kmeans = KMeans(n_clusters = 3, init = 'k-means++', max_iter = 300, n_init = 10, random_state = 0)\n",
    "y_means = kmeans.fit_predict(X_train)\n",
    "y_means"
   ]
  },
  {
   "cell_type": "code",
   "execution_count": 258,
   "metadata": {},
   "outputs": [
    {
     "data": {
      "image/png": "[encoded data removed]",
      "text/plain": [
       "<Figure size 432x288 with 1 Axes>"
      ]
     },
     "metadata": {},
     "output_type": "display_data"
    }
   ],
   "source": [
    "plt.scatter(X_train[y_means==0, 0], X_train[y_means==0, 1], s=100, c='red', label ='Cluster 1')\n",
    "plt.scatter(X_train[y_means==1, 0], X_train[y_means==1, 1], s=100, c='blue', label ='Cluster 2')\n",
    "plt.scatter(X_train[y_means==2, 0], X_train[y_means==2, 1], s=100, c='green', label ='Cluster 3')\n",
    "\n",
    "plt.scatter(kmeans.cluster_centers_[:, 0], kmeans.cluster_centers_[:, 1], s=300, c='yellow', label = 'Centroids')\n",
    "plt.show()"
   ]
  },
  {
   "cell_type": "markdown",
   "metadata": {},
   "source": [
    "### Part 2"
   ]
  },
  {
   "cell_type": "markdown",
   "metadata": {},
   "source": [
    "### Kmeans from scratch"
   ]
  },
  {
   "cell_type": "code",
   "execution_count": 238,
   "metadata": {},
   "outputs": [],
   "source": [
    "import pandas as pd\n",
    "import numpy as np\n",
    "import matplotlib.pyplot as plt\n",
    "import seaborn as sns"
   ]
  },
  {
   "cell_type": "code",
   "execution_count": 239,
   "metadata": {},
   "outputs": [],
   "source": [
    "class K_Means:\n",
    "    \n",
    "    def __init__(self, n_clusters=2, tolerance = 0.001, max_iter = 500):\n",
    "        self.n_clusters = n_clusters\n",
    "        self.max_iterations = max_iter\n",
    "        self.tolerance = tolerance\n",
    "    \n",
    "    def euclidean_distance(self, point1, point2):\n",
    "        #return math.sqrt((point1[0]-point2[0])**2 + (point1[1]-point2[1])**2 + (point1[2]-point2[2])**2)   #sqrt((x1-x2)^2 + (y1-y2)^2)\n",
    "        return np.linalg.norm(point1-point2, axis=0)\n",
    "        \n",
    "    def predict(self,data):\n",
    "        distances = [np.linalg.norm(data-self.centroids[centroid]) for centroid in self.centroids]\n",
    "        classification = distances.index(min(distances))\n",
    "        return classification\n",
    "    \n",
    "    def fit(self, data):\n",
    "        self.centroids = {}\n",
    "        for i in range(self.n_clusters):\n",
    "            self.centroids[i] = data[i]\n",
    "                \n",
    "        for i in range(self.max_iterations):\n",
    "            self.classes = {}\n",
    "            for j in range(self.n_clusters):\n",
    "                self.classes[j] = []\n",
    "                \n",
    "            for point in data:\n",
    "                distances = []\n",
    "                for index in self.centroids:\n",
    "                    distances.append(self.euclidean_distance(point,self.centroids[index]))\n",
    "                cluster_index = distances.index(min(distances))\n",
    "                self.classes[cluster_index].append(point)\n",
    "            \n",
    "            previous = dict(self.centroids)\n",
    "            for cluster_index in self.classes:\n",
    "                self.centroids[cluster_index] = np.average(self.classes[cluster_index], axis = 0)                \n",
    "            isOptimal = True\n",
    "            \n",
    "            for centroid in self.centroids:\n",
    "                original_centroid = previous[centroid]\n",
    "                curr = self.centroids[centroid]\n",
    "                if np.sum((curr - original_centroid)/original_centroid * 100.0) > self.tolerance:\n",
    "                    isOptimal = False\n",
    "            if isOptimal:\n",
    "                break\n"
   ]
  },
  {
   "cell_type": "code",
   "execution_count": 240,
   "metadata": {},
   "outputs": [
    {
     "data": {
      "text/plain": [
       "array([[-0.00154071, -0.06575046, -0.04548992, ..., -0.45320959,\n",
       "         0.5879856 ,  0.51269425],\n",
       "       [-0.05314693,  0.11125157,  0.08144904, ...,  0.24020214,\n",
       "        -0.25116097, -0.32172631],\n",
       "       [ 0.03107051,  0.0192497 ,  0.0108583 , ...,  0.42191142,\n",
       "        -0.58059095, -0.4498302 ]])"
      ]
     },
     "execution_count": 240,
     "metadata": {},
     "output_type": "execute_result"
    }
   ],
   "source": [
    "from copy import deepcopy\n",
    "# Number of clusters\n",
    "K = 3\n",
    "# Number of training data\n",
    "n = X_train.shape[0]\n",
    "# Number of features in the data\n",
    "c = X_train.shape[1]\n",
    "\n",
    "# Generate random centers, here we use sigma and mean to ensure it represent the whole data\n",
    "mean = np.mean(X_train, axis = 0)\n",
    "std = np.std(X_train, axis = 0)\n",
    "centers = np.random.randn(K,c)*std + mean\n",
    "\n",
    "centers_old = np.zeros(centers.shape) # to store old centers\n",
    "centers_new = deepcopy(centers) # Store new centers\n",
    "\n",
    "clusters = np.zeros(n)\n",
    "distances = np.zeros((n,K))\n",
    "\n",
    "error = np.linalg.norm(centers_new - centers_old)\n",
    "\n",
    "# When, after an update, the estimate of that center stays the same, exit loop\n",
    "while error != 0:\n",
    "    # Measure the distance to every center\n",
    "    for i in range(K):\n",
    "        distances[:,i] = np.linalg.norm(X_train - centers_new[i], axis=1)\n",
    "    # Assign all training data to closest center\n",
    "    clusters = np.argmin(distances, axis = 1)\n",
    "    \n",
    "    centers_old = deepcopy(centers_new)\n",
    "    # Calculate mean for every cluster and update the center\n",
    "    for i in range(K):\n",
    "        centers_new[i] = np.mean(X_train[clusters == i], axis=0)\n",
    "    error = np.linalg.norm(centers_new - centers_old)\n",
    "centers_new    \n",
    "# array([[5.006     , 3.418     , 1.464     , 0.244     ],\n",
    "#        [6.48787879, 2.96212121, 5.34242424, 1.87575758],\n",
    "#        [5.82352941, 2.69705882, 4.05882353, 1.28823529]])"
   ]
  },
  {
   "cell_type": "code",
   "execution_count": 241,
   "metadata": {},
   "outputs": [
    {
     "data": {
      "text/plain": [
       "(3, 561)"
      ]
     },
     "execution_count": 241,
     "metadata": {},
     "output_type": "execute_result"
    }
   ],
   "source": [
    "centers_new.shape"
   ]
  },
  {
   "cell_type": "code",
   "execution_count": 254,
   "metadata": {},
   "outputs": [
    {
     "data": {
      "image/png": "[encoded data removed]",
      "text/plain": [
       "<Figure size 432x288 with 1 Axes>"
      ]
     },
     "metadata": {},
     "output_type": "display_data"
    },
    {
     "name": "stdout",
     "output_type": "stream",
     "text": [
      "Result: 843 out of 7352 samples were correctly labeled.\n",
      "Result: 843 out of 7352 samples were correctly labeled.\n",
      "Accuracy score: 0.11\n"
     ]
    },
    {
     "data": {
      "image/png": "[encoded data removed]",
      "text/plain": [
       "<Figure size 864x432 with 1 Axes>"
      ]
     },
     "metadata": {},
     "output_type": "display_data"
    }
   ],
   "source": [
    "from sklearn.cluster import KMeans\n",
    "distortions = []\n",
    "error = []\n",
    "for i in range(1, 11):\n",
    "    kmeans = KMeans(n_clusters = i, max_iter = 500,)\n",
    "    kmeans.fit(X_train,y_train)\n",
    "    distortions.append(kmeans.inertia_)\n",
    "    yhat = kmeans.predict(X_test)\n",
    "    mean_acc[i-1] = metrics.accuracy_score(y_test, yhat)\n",
    "    error.append(np.mean(yhat != y_test))\n",
    "    \n",
    "    \n",
    "plt.style.use('seaborn-whitegrid')\n",
    "plt.plot(range(1, 11), distortions)\n",
    "plt.title('The Elbow Method')\n",
    "plt.xlabel('Number of clusters')\n",
    "plt.ylabel('CS')\n",
    "plt.show()\n",
    "\n",
    "plt.figure(figsize=(12, 6))\n",
    "plt.plot(range(1, 11), error, color='red', linestyle='dashed', marker='o',\n",
    "             markerfacecolor='blue', markersize=10)\n",
    "plt.title('Error Rate K Value')\n",
    "plt.xlabel('K Value')\n",
    "plt.ylabel('Mean Error')\n",
    "\n",
    "labels = kmeans.labels_\n",
    "# check how many of the samples were correctly labeled\n",
    "correct_labels = sum(y_train == labels)\n",
    "\n",
    "print(\"Result: %d out of %d samples were correctly labeled.\" % (correct_labels, y_train.size))\n",
    "# check how many of the samples were correctly labeled\n",
    "correct_labels = sum(y_train == labels)\n",
    "\n",
    "\n",
    "print(\"Result: %d out of %d samples were correctly labeled.\" % (correct_labels, y_train.size))\n",
    "print('Accuracy score: {0:0.2f}'. format(correct_labels/float(y_train.size)))"
   ]
  },
  {
   "cell_type": "code",
   "execution_count": 255,
   "metadata": {},
   "outputs": [
    {
     "name": "stdout",
     "output_type": "stream",
     "text": [
      "Result: 436 out of 2947 samples were correctly labeled.\n",
      "Result: 436 out of 2947 samples were correctly labeled.\n",
      "Accuracy score: 0.15\n"
     ]
    }
   ],
   "source": [
    "from sklearn.cluster import KMeans\n",
    "distortions = []\n",
    "error = []\n",
    "for i in range(1, 11):\n",
    "    kmeans = KMeans(n_clusters = i, max_iter = 500,)\n",
    "    kmeans.fit(X_test)\n",
    "    distortions.append(kmeans.inertia_)\n",
    "    yhat = kmeans.predict(X_test)\n",
    "    mean_acc[i-1] = metrics.accuracy_score(y_test, yhat)\n",
    "    error.append(np.mean(yhat != y_test))\n",
    "    \n",
    "\n",
    "labels = kmeans.labels_\n",
    "# check how many of the samples were correctly labeled\n",
    "correct_labels = sum(y_test == labels)\n",
    "\n",
    "print(\"Result: %d out of %d samples were correctly labeled.\" % (correct_labels, y_test.size))\n",
    "# check how many of the samples were correctly labeled\n",
    "correct_labels = sum(y_test == labels)\n",
    "\n",
    "\n",
    "print(\"Result: %d out of %d samples were correctly labeled.\" % (correct_labels, y_test.size))\n",
    "print('Accuracy score: {0:0.2f}'. format(correct_labels/float(y_test.size)))"
   ]
  },
  {
   "cell_type": "code",
   "execution_count": null,
   "metadata": {},
   "outputs": [],
   "source": []
  },
  {
   "cell_type": "markdown",
   "metadata": {},
   "source": [
    "### Part 4 \n",
    "#### using Sklearn"
   ]
  },
  {
   "cell_type": "code",
   "execution_count": 257,
   "metadata": {},
   "outputs": [
    {
     "name": "stdout",
     "output_type": "stream",
     "text": [
      "Train Accuracy: 0.13152883569096843\n",
      "Test Accuracy: 0.167288768238887\n"
     ]
    }
   ],
   "source": [
    "from sklearn.cluster import KMeans\n",
    "kmeans = KMeans(n_clusters = 3, init = 'k-means++', max_iter = 500, n_init = 10, random_state = 0)\n",
    "trained_model = kmeans.fit(X_train, y_train)\n",
    "trained_model.fit(X_train, y_train)\n",
    "cs.append(kmeans.inertia_)\n",
    "predictions = trained_model.predict(X_test)      \n",
    "print(\"Train Accuracy:\", accuracy_score(y_train, trained_model.predict(X_train)))\n",
    "print(\"Test Accuracy:\", accuracy_score(y_test, predictions))\n",
    "#print(\"Confusion Matrix:\", confusion_matrix(y_test, predictions))"
   ]
  },
  {
   "cell_type": "code",
   "execution_count": null,
   "metadata": {},
   "outputs": [],
   "source": []
  }
 ],
 "metadata": {
  "kernelspec": {
   "display_name": "Python 3",
   "language": "python",
   "name": "python3"
  },
  "language_info": {
   "codemirror_mode": {
    "name": "ipython",
    "version": 3
   },
   "file_extension": ".py",
   "mimetype": "text/x-python",
   "name": "python",
   "nbconvert_exporter": "python",
   "pygments_lexer": "ipython3",
   "version": "3.8.5"
  }
 },
 "nbformat": 4,
 "nbformat_minor": 4
}
